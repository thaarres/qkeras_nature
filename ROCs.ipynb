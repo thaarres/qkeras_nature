{
 "cells": [
  {
   "cell_type": "code",
   "execution_count": 18,
   "metadata": {},
   "outputs": [],
   "source": [
    "import numpy as np\n",
    "import matplotlib.pyplot as plt\n",
    "import mplhep as hep\n",
    "import tkinter\n",
    "import matplotlib\n",
    "matplotlib.use('TkAgg')\n",
    "\n",
    "plt.style.use(hep.style.CMS)\n",
    "from sklearn import metrics\n",
    "\n",
    "cols = ['#d55e00','#cc79a7','#0072b2','#f0e442','#009e73']"
   ]
  },
  {
   "cell_type": "code",
   "execution_count": 19,
   "metadata": {},
   "outputs": [],
   "source": [
    "QB = np.load(\"QB.npz\")\n",
    "QE = np.load(\"QE.npz\")\n",
    "BF = np.load(\"BF.npz\")\n",
    "Q6 = np.load(\"Q6.npz\")"
   ]
  },
  {
   "cell_type": "code",
   "execution_count": 20,
   "metadata": {},
   "outputs": [],
   "source": [
    "roc_auc_bf_t = metrics.auc(BF['fpr_qkeras_t'],BF['tpr_qkeras_t'])\n",
    "roc_auc_q6_t = metrics.auc(Q6['fpr_qkeras_t'],Q6['tpr_qkeras_t'])\n",
    "roc_auc_qe_t = metrics.auc(QE['fpr_qkeras_t'],QE['tpr_qkeras_t'])\n",
    "roc_auc_qb_t = metrics.auc(QB['fpr_qkeras_t'],QB['tpr_qkeras_t'])\n",
    "\n",
    "roc_auc_bf_g = metrics.auc(BF['fpr_qkeras_g'],BF['tpr_qkeras_g'])\n",
    "roc_auc_q6_g = metrics.auc(Q6['fpr_qkeras_g'],Q6['tpr_qkeras_g'])\n",
    "roc_auc_qe_g = metrics.auc(QE['fpr_qkeras_g'],QE['tpr_qkeras_g'])\n",
    "roc_auc_qb_g = metrics.auc(QB['fpr_qkeras_g'],QB['tpr_qkeras_g'])"
   ]
  },
  {
   "cell_type": "code",
   "execution_count": null,
   "metadata": {},
   "outputs": [],
   "source": [
    "fig = plt.figure(figsize=(15,10))\n",
    "\n",
    "t1, = plt.plot(BF['fpr_qkeras_t'],BF['tpr_qkeras_t'],label=r'BF (AUC: t = {:.2f} / g = {:.2f})'.format(roc_auc_bf_t,roc_auc_bf_g), linewidth=2, color=cols[0])\n",
    "t2, = plt.plot(Q6['fpr_qkeras_t'],Q6['tpr_qkeras_t'],label=r'Q6 (AUC: t = {:.2f} / g = {:.2f})'.format(roc_auc_q6_t,roc_auc_q6_g), linewidth=2, color=cols[1])\n",
    "t3, = plt.plot(QE['fpr_qkeras_t'],QE['tpr_qkeras_t'],label=r'QE (AUC: t = {:.2f} / g = {:.2f})'.format(roc_auc_qe_t,roc_auc_qe_g), linewidth=2, color=cols[3])\n",
    "t4, = plt.plot(QB['fpr_qkeras_t'],QB['tpr_qkeras_t'],label=r'QB (AUC: t = {:.2f} / g = {:.2f})'.format(roc_auc_qb_t,roc_auc_qb_g), linewidth=2, color=cols[4])\n",
    "\n",
    "g1, =  plt.plot(BF['fpr_qkeras_g'],BF['tpr_qkeras_g'], linestyle='dotted',linewidth=2, color=cols[0], alpha=0.8)\n",
    "g2, =  plt.plot(Q6['fpr_qkeras_g'],Q6['tpr_qkeras_g'], linestyle='dotted',linewidth=2, color=cols[1], alpha=0.8)\n",
    "g3, =  plt.plot(QE['fpr_qkeras_g'],QE['tpr_qkeras_g'], linestyle='dotted',linewidth=2, color=cols[3], alpha=0.8)\n",
    "g4, =  plt.plot(QB['fpr_qkeras_g'],QB['tpr_qkeras_g'], linestyle='dotted',linewidth=2, color=cols[4], alpha=0.8)\n",
    "\n",
    "plt.semilogx()\n",
    "plt.ylabel(\"True Positive Rate\")\n",
    "plt.xlabel(\"False Positive Rate\")\n",
    "plt.xlim(0.0007,1.0)\n",
    "plt.ylim(0.2,1.1)\n",
    "legend2 = plt.legend(loc='lower right',frameon=False)\n",
    "legend1 = plt.legend([t1,g1], ['Class = t','Class = g'], loc='center right',frameon=False)\n",
    "plt.gca().set_prop_cycle(None)\n",
    "plt.gca().add_artist(legend1)\n",
    "plt.gca().add_artist(legend2)\n",
    "plt.show()\n",
    "fig.tight_layout()\n",
    "fig.savefig('roc.pdf')"
   ]
  },
  {
   "cell_type": "code",
   "execution_count": null,
   "metadata": {},
   "outputs": [],
   "source": []
  }
 ],
 "metadata": {
  "kernelspec": {
   "display_name": "Python 3",
   "language": "python",
   "name": "python3"
  },
  "language_info": {
   "codemirror_mode": {
    "name": "ipython",
    "version": 3
   },
   "file_extension": ".py",
   "mimetype": "text/x-python",
   "name": "python",
   "nbconvert_exporter": "python",
   "pygments_lexer": "ipython3",
   "version": "3.6.8"
  }
 },
 "nbformat": 4,
 "nbformat_minor": 4
}
